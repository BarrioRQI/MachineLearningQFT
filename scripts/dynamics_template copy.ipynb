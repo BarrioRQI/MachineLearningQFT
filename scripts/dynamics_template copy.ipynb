{
 "cells": [
  {
   "cell_type": "code",
   "execution_count": 1,
   "metadata": {},
   "outputs": [
    {
     "name": "stdout",
     "output_type": "stream",
     "text": [
      "WARNING:tensorflow:From c:\\Users\\BCimr\\anaconda3\\lib\\site-packages\\tensorflow\\python\\compat\\v2_compat.py:101: disable_resource_variables (from tensorflow.python.ops.variable_scope) is deprecated and will be removed in a future version.\n",
      "Instructions for updating:\n",
      "non-resource variables are not supported in the long term\n"
     ]
    }
   ],
   "source": [
    "#! /usr/bin/python\n",
    "import pandas as pd\n",
    "import numpy as np\n",
    "import tensorflow.compat.v1 as tf\n",
    "tf.disable_v2_behavior()\n",
    "from scipy.constants import c, hbar, elementary_charge, Boltzmann\n",
    "from sklearn import metrics\n",
    "\n",
    "import os\n",
    "os.environ['TF_CPP_MIN_LOG_LEVEL'] = '3'\n",
    "os.chdir('..')\n",
    "import utils.utilities as u\n",
    "import utils.dynamics as d"
   ]
  },
  {
   "cell_type": "code",
   "execution_count": 2,
   "metadata": {},
   "outputs": [],
   "source": [
    "from utils.detector_position_regression_params import *"
   ]
  },
  {
   "cell_type": "code",
   "execution_count": 3,
   "metadata": {},
   "outputs": [],
   "source": [
    "\n",
    "LPYD = LPYD[1:,:]                            # Remove first row \n",
    "nz = np.nonzero(LPYD[:,2].astype(float))[0]  # Find rows with non-zero probability\n",
    "LPYD = LPYD[nz,:]                            # Isolate Rows with non-zero probability\n",
    "\n",
    "DupYLabels = LPYD[:,1]          # Extract the y labels from LPYD (with duplicates)\n",
    "ylabels = []                    # Remove the duplicates\n",
    "for i in DupYLabels: \n",
    "    if i not in ylabels: \n",
    "        ylabels.append(i)\n",
    "\n",
    "plist = LPYD[:,2].astype(float) # Extract probabilities from LYPD\n",
    "ptot  = sum(plist)              # Compute their sum\n",
    "plist = plist/ptot              # Normalize them\n",
    "cases = len(plist)              # Number of cases being considered\n",
    "\n",
    "ylist  = LPYD[:,3]  # Extract y-values from LPYD (with duplicates)    \n",
    "Blist = LPYD[:,4].astype(int)      # Extract Boudary conditions from LPYD\n",
    "Dlist = LPYD[:,5].astype(int)      # Extract Distances from LPYD\n",
    "TempList = LPYD[:,6].astype(float) # Extract Distances from LPYD\n",
    "SmearList = LPYD[:,7] # Extract Distances from LPYD\n",
    "DimList = LPYD[:,8] # Extract Distances from LPYD"
   ]
  },
  {
   "cell_type": "code",
   "execution_count": 4,
   "metadata": {},
   "outputs": [],
   "source": [
    "data_dir = os.getcwd() + \"\\\\Data\\\\\" + experiment_name\n",
    "try:\n",
    "    os.mkdir(data_dir)\n",
    "except FileExistsError:\n",
    "    pass"
   ]
  },
  {
   "cell_type": "code",
   "execution_count": 7,
   "metadata": {},
   "outputs": [],
   "source": [
    "# hamiltonian represented by symplectic form F, where F is in basis (q1,..., qN, qD, p1, ..., pN, pD)\n",
    "Flist_dynamic = [0]*cases         # List of Hamiltonians for dynamics, for each scenario\n",
    "Flist_thermal = [0]*cases         # List of Hamiltonians for thermality\n",
    "for k in range(cases):\n",
    "    Flist_dynamic[k], Flist_thermal[k] = \\\n",
    "        d.get_symplectic_generator(wD,mcc,lam,latlen,sigma,Blist[k],Dlist[k],smearing=SmearList[k],dim=DimList[k])"
   ]
  },
  {
   "cell_type": "code",
   "execution_count": 56,
   "metadata": {},
   "outputs": [],
   "source": [
    "acc = []\n",
    "val_acc = []\n",
    "confusion = []"
   ]
  },
  {
   "cell_type": "code",
   "execution_count": null,
   "metadata": {},
   "outputs": [],
   "source": [
    "for t_index in range(len(plot_times_min)):\n",
    "    tmax = plot_times_max[t_index]\n",
    "    tmin = plot_times_min[t_index]\n",
    "    print('Run', t_index, 'of', len(plot_times_max), 'at time', str(np.round(tmin,5)), 'to time', str(np.round(tmax,5)))\n",
    "\n",
    "    case_time = experiment_name + '_time_'+str(np.round(tmax,5))\n",
    "    time_dir = data_dir + '\\\\' + case_time\n",
    "    try:\n",
    "        os.mkdir(time_dir)\n",
    "    except FileExistsError:\n",
    "        pass\n",
    "\n",
    "    expdata_name = case_time + '_exp_and_pca_data'\n",
    "    expdata_dir = time_dir + '\\\\' + expdata_name\n",
    "\n",
    "    expdata_exists = False\n",
    "    pcadata_exists = False\n",
    "    try:\n",
    "        os.mkdir(expdata_dir)\n",
    "    except FileExistsError:\n",
    "        expdata_exists = os.path.isfile(expdata_dir+'\\\\exp_data_all.csv')\n",
    "        pcadata_exists = os.path.isfile(expdata_dir+'\\\\pca_data_all.csv')\n",
    "        accdata_exists = os.path.isfile(expdata_dir+'\\\\acc_data_all.csv')\n",
    "\n",
    "    if not expdata_exists or overwrite:\n",
    "        projector_list, median_projector, \\\n",
    "            state_list_0, median_state_0, \\\n",
    "                prepicked_trajectories, median_trajectory, \\\n",
    "                    BigDSList, reglist = \\\n",
    "            u.get_probe_trajectories(\n",
    "                Flist_dynamic, \n",
    "                Flist_thermal, \n",
    "                latlen,\n",
    "                Blist, \n",
    "                TempList, \n",
    "                Tdev, \n",
    "                tmin,\n",
    "                tmax,\n",
    "                t_index,\n",
    "                measurements_per_window, \n",
    "                cases, \n",
    "                n_samples,  \n",
    "                Regression)\n",
    "        exp_data = u.generate_measurement_data(\n",
    "            projector_list, \n",
    "            median_projector, \n",
    "            prepicked_trajectories, \n",
    "            median_state_0, \n",
    "            BigDSList,\n",
    "            cases, \n",
    "            n_samples, \n",
    "            measurements_per_window, \n",
    "            n_tom, \n",
    "            Tdev,\n",
    "            ylist,\n",
    "            Regression, \n",
    "            reglist,\n",
    "            save=True, \n",
    "            path=expdata_dir + '\\\\')\n",
    "        \n",
    "        exp_data = np.asarray(exp_data)\n",
    "    else:\n",
    "        exp_data = np.asarray(pd.read_csv(expdata_dir+'\\\\exp_data_all.csv'))\n",
    "\n",
    "    LO = 1                  # Fraction of variance to be kept after PCA (0 to 1 or 'All') \n",
    "\n",
    "    print('Performing PCA')\n",
    "    if not pcadata_exists or overwrite or not expdata_exists:\n",
    "        PCAdData = u.run_PCA_on_data(\n",
    "            exp_data, \n",
    "            f_train, \n",
    "            PCA_var_keep, \n",
    "            cases, \n",
    "            save=True, \n",
    "            path=expdata_dir + '\\\\')\n",
    "    else:\n",
    "        PCAdData = np.asarray(pd.read_csv(expdata_dir+'\\\\pca_data_all.csv'))\n",
    "\n",
    "    print('defining model')\n",
    "    ### DEFINE THE NETWORK ARCHITECTURE ###\n",
    "    nI = PCAdData.shape[1]-LO\n",
    "    nO = 1 if Regression else len(ylabels)\n",
    "    model = tf.keras.Sequential([\n",
    "        tf.keras.layers.Flatten(input_shape=(nI,)),\n",
    "        tf.keras.layers.Dense(\n",
    "            3#, \n",
    "            #activation=tf.keras.layers.ReLU()\n",
    "            #kernel_initializer=tf.keras.initializers.RandomNormal(stddev=np.sqrt(2/(nH1+nO))), \n",
    "            #bias_initializer=tf.keras.initializers.Zeros()\n",
    "        ),\n",
    "        tf.keras.layers.Dense(\n",
    "            nO#, \n",
    "            #activation=tf.keras.layers.ReLU()\n",
    "            #kernel_initializer=tf.keras.initializers.RandomNormal(stddev=np.sqrt(2/(nH1+nO))), \n",
    "            #bias_initializer=tf.keras.initializers.Zeros()\n",
    "        )\n",
    "    ])\n",
    "\n",
    "    def custom_loss_with_l2_reg(lambda_value):\n",
    "        def loss(y_true, y_pred):\n",
    "            eps = 10**(-10) # to prevent the logs from diverging\n",
    "            if Regression:\n",
    "                cross_entropy = tf.losses.mean_squared_error(y_true,y_pred)\n",
    "            else:\n",
    "                cross_entropy = tf.reduce_mean(tf.reduce_sum( -y_true * tf.log(y_pred+eps), reduction_indices=[1]))\n",
    "            l2_loss = tf.add_n([tf.nn.l2_loss(w) for w in model.trainable_weights])\n",
    "            return cross_entropy + lambda_value*l2_loss\n",
    "        return loss\n",
    "\n",
    "    if True:\n",
    "        optimizer = tf.train.AdamOptimizer(learning_rate=1e-4)\n",
    "        loss = custom_loss_with_l2_reg(L2reg)\n",
    "\n",
    "        print('compiling model')\n",
    "        model.compile(\n",
    "            optimizer=optimizer, \n",
    "            loss=loss, \n",
    "            metrics=['mae'] if Regression else ['accuracy'])\n",
    "\n",
    "        n_train = int(PCAdData.shape[0]*(f_train+f_valid))\n",
    "        n_test = PCAdData.shape[0] - n_train\n",
    "        x_train = PCAdData[:n_train, :-LO]\n",
    "        x_test = PCAdData[n_train:n_train+n_test, :-LO]\n",
    "        y_train = PCAdData[:n_train, -LO:]\n",
    "        y_test = PCAdData[n_train:n_train+n_test, -LO:]\n",
    "\n",
    "        if not Regression:\n",
    "            y_train_OH = tf.keras.utils.to_categorical(y_train, num_classes=nO)\n",
    "            y_test_OH = tf.keras.utils.to_categorical(y_test, num_classes=nO)\n",
    "\n",
    "        print('training model')\n",
    "\n",
    "        history = model.fit(\n",
    "            x_train, \n",
    "            y_train, \n",
    "            epochs=25, \n",
    "            verbose=1, \n",
    "            validation_split=f_valid/(f_valid+f_train), \n",
    "            batch_size=minibatch_size)\n",
    "\n",
    "        if Regression:\n",
    "            accs = [0.5, 0.25, 0.1, 0.05, 0.04, 0.03, 0.02, 0.01]\n",
    "            y_pred = model.predict(x_test)\n",
    "            accuracy = [np.sum(np.abs(y_test - y_pred) < acc)/y_test.shape[0] for acc in accs]\n",
    "            print(accuracy)\n",
    "            val_acc.append(accuracy)\n",
    "        else:\n",
    "            val_acc.append(history.history['val_acc'][-1])\n",
    "            print(history.history['val_acc'][-1])\n",
    "            y_pred = model.predict(x_test)\n",
    "            confusion.append(metrics.confusion_matrix(y_test_OH.argmax(axis=1), y_pred.argmax(axis=1), labels=list(range(len(ylabels)))))"
   ]
  },
  {
   "cell_type": "code",
   "execution_count": 66,
   "metadata": {},
   "outputs": [],
   "source": [
    "if not Regression:\n",
    "    conf = np.zeros((len(confusion[0].flatten()), len(confusion)))\n",
    "    for i, c in enumerate(confusion):\n",
    "        conf[:, i] = confusion[i].flatten()\n",
    "\n",
    "plot_times_max_arr = np.asarray(plot_times_max).reshape((-1, 1)).T\n",
    "plot_times_min_arr = np.asarray(plot_times_min).reshape((-1, 1)).T\n",
    "if not Regression:\n",
    "    val_acc_arr = np.asarray(val_acc).reshape((-1, 1)).T\n",
    "else:\n",
    "    val_acc_arr = np.asarray(val_acc).T\n",
    "\n",
    "output = (plot_times_min_arr, plot_times_max_arr, val_acc_arr) if Regression else (plot_times_min_arr, plot_times_max_arr, val_acc_arr, conf)\n",
    "test_result = np.concatenate(output, axis=0)\n",
    "\n",
    "if not os.path.isfile(data_dir+'\\\\test_output.csv') or overwrite:\n",
    "    pd.DataFrame(test_result).to_csv(data_dir+'\\\\test_output.csv')"
   ]
  },
  {
   "cell_type": "code",
   "execution_count": null,
   "metadata": {},
   "outputs": [
    {
     "name": "stderr",
     "output_type": "stream",
     "text": [
      "c:\\Users\\BCimr\\anaconda3\\lib\\site-packages\\keras\\engine\\training.py:2470: UserWarning: `Model.state_updates` will be removed in a future version. This property should not be used in TensorFlow 2.0, as `updates` are applied automatically.\n",
      "  warnings.warn('`Model.state_updates` will be removed in a future version. '\n"
     ]
    },
    {
     "data": {
      "text/plain": [
       "[<matplotlib.lines.Line2D at 0x1ac7bb4e430>]"
      ]
     },
     "execution_count": 8,
     "metadata": {},
     "output_type": "execute_result"
    },
    {
     "data": {
      "image/png": "[encoded data removed]",
      "text/plain": [
       "<Figure size 432x288 with 1 Axes>"
      ]
     },
     "metadata": {
      "needs_background": "light"
     },
     "output_type": "display_data"
    }
   ],
   "source": [
    "import matplotlib.pyplot as plt\n",
    "y_pred = model.predict(x_test)\n",
    "plt.scatter(y_test, y_pred)\n",
    "plt.plot([0,1], [0,1])#, model.predict(x_test))\n",
    "#plt.xlim(0, 1)\n",
    "#plt.ylim(0, 1)"
   ]
  },
  {
   "cell_type": "code",
   "execution_count": 68,
   "metadata": {},
   "outputs": [
    {
     "data": {
      "image/png": "[encoded data removed]",
      "text/plain": [
       "<Figure size 432x288 with 1 Axes>"
      ]
     },
     "metadata": {
      "needs_background": "light"
     },
     "output_type": "display_data"
    }
   ],
   "source": [
    "import matplotlib.pyplot as plt\n",
    "\n",
    "fig, ax=plt.subplots()\n",
    "for i in range(val_acc_arr.shape[0]):\n",
    "    ax.plot(plot_times_max, val_acc_arr[i])\n",
    "    #ax.plot(plot_times_max[-14:-9], np.asarray(val_acc).T[i])\n",
    "ax.set_xscale('log')"
   ]
  },
  {
   "cell_type": "code",
   "execution_count": 85,
   "metadata": {},
   "outputs": [
    {
     "data": {
      "text/plain": [
       "[[3], [2, 4], [1, 5], [6, 0], [5, 7, 1], [4, 8, 2], [3], [8, 4], [7, 5]]"
      ]
     },
     "execution_count": 85,
     "metadata": {},
     "output_type": "execute_result"
    }
   ],
   "source": [
    "import utils.dynamics as d\n",
    "\n",
    "d.SquareLatticeAdjList(3,2,True, False, False, True)"
   ]
  }
 ],
 "metadata": {
  "kernelspec": {
   "display_name": "base",
   "language": "python",
   "name": "python3"
  },
  "language_info": {
   "codemirror_mode": {
    "name": "ipython",
    "version": 3
   },
   "file_extension": ".py",
   "mimetype": "text/x-python",
   "name": "python",
   "nbconvert_exporter": "python",
   "pygments_lexer": "ipython3",
   "version": "3.9.7"
  },
  "orig_nbformat": 4
 },
 "nbformat": 4,
 "nbformat_minor": 2
}
