{
 "cells": [
  {
   "cell_type": "code",
   "execution_count": 1,
   "metadata": {},
   "outputs": [
    {
     "name": "stdout",
     "output_type": "stream",
     "text": [
      "WARNING:tensorflow:From c:\\Users\\BCimr\\anaconda3\\lib\\site-packages\\tensorflow\\python\\compat\\v2_compat.py:101: disable_resource_variables (from tensorflow.python.ops.variable_scope) is deprecated and will be removed in a future version.\n",
      "Instructions for updating:\n",
      "non-resource variables are not supported in the long term\n"
     ]
    }
   ],
   "source": [
    "#! /usr/bin/python\n",
    "import pandas as pd\n",
    "import numpy as np\n",
    "import tensorflow.compat.v1 as tf\n",
    "tf.disable_v2_behavior()\n",
    "from scipy.constants import c, hbar, elementary_charge, Boltzmann\n",
    "from sklearn import metrics\n",
    "\n",
    "import os\n",
    "os.environ['TF_CPP_MIN_LOG_LEVEL'] = '3'\n",
    "os.chdir('..')\n",
    "import utils.utilities as u\n",
    "import utils.dynamics as d"
   ]
  },
  {
   "cell_type": "code",
   "execution_count": 2,
   "metadata": {},
   "outputs": [
    {
     "name": "stdout",
     "output_type": "stream",
     "text": [
      "0.002829421210522584 0.001178912824847821 0.11789128248478209 0.11789128248478209 0.0 0.0035342917352885173 1.178912824847821e-11 1.178912824847821e-09\n",
      "[8.48e-06 8.48e-05 0.000848 0.00848 0.0848 0.848 8.48 84.8]\n"
     ]
    }
   ],
   "source": [
    "from utils.circular_classification_params import *"
   ]
  },
  {
   "cell_type": "code",
   "execution_count": 3,
   "metadata": {},
   "outputs": [],
   "source": [
    "\n",
    "LPYD = LPYD[1:,:]                            # Remove first row \n",
    "nz = np.nonzero(LPYD[:,2].astype(float))[0]  # Find rows with non-zero probability\n",
    "LPYD = LPYD[nz,:]                            # Isolate Rows with non-zero probability\n",
    "\n",
    "DupYLabels = LPYD[:,1]          # Extract the y labels from LPYD (with duplicates)\n",
    "ylabels = []                    # Remove the duplicates\n",
    "for i in DupYLabels: \n",
    "    if i not in ylabels: \n",
    "        ylabels.append(i)\n",
    "\n",
    "plist = LPYD[:,2].astype(float) # Extract probabilities from LYPD\n",
    "ptot  = sum(plist)              # Compute their sum\n",
    "plist = plist/ptot              # Normalize them\n",
    "cases = len(plist)              # Number of cases being considered\n",
    "\n",
    "ylist  = LPYD[:,3]  # Extract y-values from LPYD (with duplicates)    \n",
    "Blist = LPYD[:,4].astype(int)      # Extract Boudary conditions from LPYD\n",
    "Dlist = LPYD[:,5].astype(int)      # Extract Distances from LPYD\n",
    "TempList = LPYD[:,6].astype(float) # Extract Distances from LPYD\n",
    "SmearList = LPYD[:,7] # Extract Distances from LPYD\n",
    "DimList = LPYD[:,8].astype(int) # Extract Distances from LPYD\n",
    "if LPYD.shape[1] >= 10:\n",
    "    LatLenList = LPYD[:,9].astype(int)\n",
    "else:\n",
    "    LatLenList = [latlen]*len(DimList)"
   ]
  },
  {
   "cell_type": "code",
   "execution_count": 4,
   "metadata": {},
   "outputs": [],
   "source": [
    "data_dir = os.getcwd() + \"\\\\Data\\\\\" + experiment_name\n",
    "try:\n",
    "    os.mkdir(data_dir)\n",
    "except FileExistsError:\n",
    "    pass"
   ]
  },
  {
   "cell_type": "code",
   "execution_count": 5,
   "metadata": {},
   "outputs": [
    {
     "name": "stdout",
     "output_type": "stream",
     "text": [
      "False\n",
      "True\n"
     ]
    }
   ],
   "source": [
    "# hamiltonian represented by symplectic form F, where F is in basis (q1,..., qN, qD, p1, ..., pN, pD)\n",
    "Flist_dynamic = [0]*cases         # List of Hamiltonians for dynamics, for each scenario\n",
    "Flist_thermal = [0]*cases         # List of Hamiltonians for thermality\n",
    "for k in range(cases):\n",
    "    Flist_dynamic[k], Flist_thermal[k] = \\\n",
    "        d.get_symplectic_generator(wD,mcc,lam,LatLenList[k],sigma,Blist[k],Dlist[k],dim=DimList[k],smearing=SmearList[k])"
   ]
  },
  {
   "cell_type": "code",
   "execution_count": 6,
   "metadata": {},
   "outputs": [],
   "source": [
    "acc = []\n",
    "val_acc = []\n",
    "confusion =[]"
   ]
  },
  {
   "cell_type": "code",
   "execution_count": 7,
   "metadata": {},
   "outputs": [
    {
     "name": "stdout",
     "output_type": "stream",
     "text": [
      "Run 0 of 8 at time 0.0 to time 1e-05\n",
      "Performing PCA\n",
      "loading PCA data\n"
     ]
    },
    {
     "name": "stdout",
     "output_type": "stream",
     "text": [
      "defining model\n",
      "compiling model\n",
      "training model\n",
      "Train on 14999 samples, validate on 4000 samples\n",
      "Epoch 1/6\n",
      "14999/14999 [==============================] - 0s 22us/sample - loss: 3.8342 - acc: 0.7135 - val_loss: 1.7972 - val_acc: 0.8378\n",
      "Epoch 2/6\n",
      " 6400/14999 [===========>..................] - ETA: 0s - loss: 1.3248 - acc: 0.8659"
     ]
    },
    {
     "name": "stderr",
     "output_type": "stream",
     "text": [
      "c:\\Users\\BCimr\\anaconda3\\lib\\site-packages\\keras\\engine\\training.py:2470: UserWarning: `Model.state_updates` will be removed in a future version. This property should not be used in TensorFlow 2.0, as `updates` are applied automatically.\n",
      "  warnings.warn('`Model.state_updates` will be removed in a future version. '\n"
     ]
    },
    {
     "name": "stdout",
     "output_type": "stream",
     "text": [
      "14999/14999 [==============================] - 0s 9us/sample - loss: 0.7131 - acc: 0.8979 - val_loss: -0.2928 - val_acc: 0.9503\n",
      "Epoch 3/6\n",
      "14999/14999 [==============================] - 0s 9us/sample - loss: -0.8910 - acc: 0.9738 - val_loss: -1.3961 - val_acc: 0.9935\n",
      "Epoch 4/6\n",
      "14999/14999 [==============================] - 0s 9us/sample - loss: -1.4931 - acc: 0.9965 - val_loss: -1.5710 - val_acc: 0.9987\n",
      "Epoch 5/6\n",
      "14999/14999 [==============================] - 0s 10us/sample - loss: -1.6154 - acc: 0.9997 - val_loss: -1.6355 - val_acc: 0.9998\n",
      "Epoch 6/6\n",
      "14999/14999 [==============================] - 0s 10us/sample - loss: -1.6590 - acc: 1.0000 - val_loss: -1.6706 - val_acc: 1.0000\n",
      "1.0\n",
      "[[519   0]\n",
      " [  0 481]]\n",
      "Run 1 of 8 at time 1e-05 to time 8e-05\n",
      "Performing PCA\n",
      "loading PCA data\n",
      "defining model\n",
      "compiling model\n",
      "training model\n",
      "Train on 14999 samples, validate on 4000 samples\n",
      "Epoch 1/6\n",
      "14999/14999 [==============================] - 0s 23us/sample - loss: -0.2645 - acc: 0.9789 - val_loss: -1.4620 - val_acc: 1.0000\n",
      "Epoch 2/6\n",
      "  256/14999 [..............................] - ETA: 0s - loss: -1.4640 - acc: 1.0000"
     ]
    },
    {
     "name": "stderr",
     "output_type": "stream",
     "text": [
      "c:\\Users\\BCimr\\anaconda3\\lib\\site-packages\\keras\\engine\\training.py:2470: UserWarning: `Model.state_updates` will be removed in a future version. This property should not be used in TensorFlow 2.0, as `updates` are applied automatically.\n",
      "  warnings.warn('`Model.state_updates` will be removed in a future version. '\n"
     ]
    },
    {
     "name": "stdout",
     "output_type": "stream",
     "text": [
      "14999/14999 [==============================] - 0s 10us/sample - loss: -1.5742 - acc: 1.0000 - val_loss: -1.6568 - val_acc: 1.0000\n",
      "Epoch 3/6\n",
      "14999/14999 [==============================] - 0s 19us/sample - loss: -1.7030 - acc: 1.0000 - val_loss: -1.7371 - val_acc: 1.0000\n",
      "Epoch 4/6\n",
      "14999/14999 [==============================] - 0s 14us/sample - loss: -1.7579 - acc: 1.0000 - val_loss: -1.7726 - val_acc: 1.0000\n",
      "Epoch 5/6\n",
      "14999/14999 [==============================] - 0s 11us/sample - loss: -1.7824 - acc: 1.0000 - val_loss: -1.7888 - val_acc: 1.0000\n",
      "Epoch 6/6\n",
      "14999/14999 [==============================] - 0s 10us/sample - loss: -1.7936 - acc: 1.0000 - val_loss: -1.7963 - val_acc: 1.0000\n",
      "1.0\n",
      "[[507   0]\n",
      " [  0 493]]\n",
      "Run 2 of 8 at time 8e-05 to time 0.00085\n",
      "Performing PCA\n",
      "loading PCA data\n",
      "defining model\n",
      "compiling model\n",
      "training model\n",
      "Train on 14999 samples, validate on 4000 samples\n",
      "Epoch 1/6\n",
      "14999/14999 [==============================] - 0s 32us/sample - loss: 1.3973 - acc: 0.8813 - val_loss: -1.2178 - val_acc: 1.0000\n",
      "Epoch 2/6\n",
      " 3840/14999 [======>.......................] - ETA: 0s - loss: -1.2304 - acc: 1.0000"
     ]
    },
    {
     "name": "stderr",
     "output_type": "stream",
     "text": [
      "c:\\Users\\BCimr\\anaconda3\\lib\\site-packages\\keras\\engine\\training.py:2470: UserWarning: `Model.state_updates` will be removed in a future version. This property should not be used in TensorFlow 2.0, as `updates` are applied automatically.\n",
      "  warnings.warn('`Model.state_updates` will be removed in a future version. '\n"
     ]
    },
    {
     "name": "stdout",
     "output_type": "stream",
     "text": [
      "14999/14999 [==============================] - 0s 14us/sample - loss: -1.3072 - acc: 1.0000 - val_loss: -1.3913 - val_acc: 1.0000\n",
      "Epoch 3/6\n",
      "14999/14999 [==============================] - 0s 11us/sample - loss: -1.4397 - acc: 1.0000 - val_loss: -1.4927 - val_acc: 1.0000\n",
      "Epoch 4/6\n",
      "14999/14999 [==============================] - 0s 12us/sample - loss: -1.5234 - acc: 1.0000 - val_loss: -1.5608 - val_acc: 1.0000\n",
      "Epoch 5/6\n",
      "14999/14999 [==============================] - 0s 12us/sample - loss: -1.5822 - acc: 1.0000 - val_loss: -1.6109 - val_acc: 1.0000\n",
      "Epoch 6/6\n",
      "14999/14999 [==============================] - 0s 22us/sample - loss: -1.6266 - acc: 1.0000 - val_loss: -1.6494 - val_acc: 1.0000\n",
      "1.0\n",
      "[[498   0]\n",
      " [  0 502]]\n",
      "Run 3 of 8 at time 0.00085 to time 0.00848\n",
      "Performing PCA\n",
      "loading PCA data\n",
      "defining model\n",
      "compiling model\n",
      "training model\n",
      "Train on 14999 samples, validate on 4000 samples\n",
      "Epoch 1/6\n",
      "14999/14999 [==============================] - 0s 33us/sample - loss: -1.0928 - acc: 0.9992 - val_loss: -1.6032 - val_acc: 1.0000\n",
      "Epoch 2/6\n",
      "  256/14999 [..............................] - ETA: 0s - loss: -1.5955 - acc: 1.0000"
     ]
    },
    {
     "name": "stderr",
     "output_type": "stream",
     "text": [
      "c:\\Users\\BCimr\\anaconda3\\lib\\site-packages\\keras\\engine\\training.py:2470: UserWarning: `Model.state_updates` will be removed in a future version. This property should not be used in TensorFlow 2.0, as `updates` are applied automatically.\n",
      "  warnings.warn('`Model.state_updates` will be removed in a future version. '\n"
     ]
    },
    {
     "name": "stdout",
     "output_type": "stream",
     "text": [
      "14999/14999 [==============================] - 0s 11us/sample - loss: -1.6898 - acc: 1.0000 - val_loss: -1.7429 - val_acc: 1.0000\n",
      "Epoch 3/6\n",
      "14999/14999 [==============================] - 0s 12us/sample - loss: -1.7683 - acc: 1.0000 - val_loss: -1.7831 - val_acc: 1.0000\n",
      "Epoch 4/6\n",
      "14999/14999 [==============================] - 0s 12us/sample - loss: -1.7920 - acc: 1.0000 - val_loss: -1.7962 - val_acc: 1.0000\n",
      "Epoch 5/6\n",
      "14999/14999 [==============================] - 0s 11us/sample - loss: -1.7993 - acc: 1.0000 - val_loss: -1.8001 - val_acc: 1.0000\n",
      "Epoch 6/6\n",
      "14999/14999 [==============================] - 0s 12us/sample - loss: -1.8016 - acc: 1.0000 - val_loss: -1.8018 - val_acc: 1.0000\n",
      "1.0\n",
      "[[506   0]\n",
      " [  0 494]]\n",
      "Run 4 of 8 at time 0.00848 to time 0.08482\n",
      "Performing PCA\n",
      "loading PCA data\n",
      "defining model\n",
      "compiling model\n",
      "training model\n",
      "Train on 14999 samples, validate on 4000 samples\n",
      "Epoch 1/6\n",
      "14999/14999 [==============================] - 1s 42us/sample - loss: 1.9791 - acc: 0.9051 - val_loss: -0.7068 - val_acc: 1.0000\n"
     ]
    },
    {
     "name": "stderr",
     "output_type": "stream",
     "text": [
      "c:\\Users\\BCimr\\anaconda3\\lib\\site-packages\\keras\\engine\\training.py:2470: UserWarning: `Model.state_updates` will be removed in a future version. This property should not be used in TensorFlow 2.0, as `updates` are applied automatically.\n",
      "  warnings.warn('`Model.state_updates` will be removed in a future version. '\n"
     ]
    },
    {
     "name": "stdout",
     "output_type": "stream",
     "text": [
      "Epoch 2/6\n",
      "14999/14999 [==============================] - 0s 28us/sample - loss: -0.8751 - acc: 1.0000 - val_loss: -1.0240 - val_acc: 1.0000\n",
      "Epoch 3/6\n",
      "14999/14999 [==============================] - 0s 19us/sample - loss: -1.1325 - acc: 1.0000 - val_loss: -1.2316 - val_acc: 1.0000\n",
      "Epoch 4/6\n",
      "14999/14999 [==============================] - ETA: 0s - loss: -1.3067 - acc: 1.00 - 0s 13us/sample - loss: -1.3076 - acc: 1.0000 - val_loss: -1.3772 - val_acc: 1.0000\n",
      "Epoch 5/6\n",
      "14999/14999 [==============================] - 0s 12us/sample - loss: -1.4325 - acc: 1.0000 - val_loss: -1.4832 - val_acc: 1.0000\n",
      "Epoch 6/6\n",
      "14999/14999 [==============================] - 0s 11us/sample - loss: -1.5244 - acc: 1.0000 - val_loss: -1.5618 - val_acc: 1.0000\n",
      "1.0\n",
      "[[492   0]\n",
      " [  0 508]]\n",
      "Run 5 of 8 at time 0.08482 to time 0.84824\n",
      "Performing PCA\n",
      "loading PCA data\n",
      "defining model\n",
      "compiling model\n",
      "training model\n",
      "Train on 14999 samples, validate on 4000 samples\n",
      "Epoch 1/6\n",
      "14999/14999 [==============================] - 0s 23us/sample - loss: 2.3001 - acc: 0.9334 - val_loss: -0.6558 - val_acc: 1.0000\n",
      "Epoch 2/6\n",
      "  256/14999 [..............................] - ETA: 0s - loss: -0.6703 - acc: 1.0000"
     ]
    },
    {
     "name": "stderr",
     "output_type": "stream",
     "text": [
      "c:\\Users\\BCimr\\anaconda3\\lib\\site-packages\\keras\\engine\\training.py:2470: UserWarning: `Model.state_updates` will be removed in a future version. This property should not be used in TensorFlow 2.0, as `updates` are applied automatically.\n",
      "  warnings.warn('`Model.state_updates` will be removed in a future version. '\n"
     ]
    },
    {
     "name": "stdout",
     "output_type": "stream",
     "text": [
      "14999/14999 [==============================] - 0s 13us/sample - loss: -0.8057 - acc: 1.0000 - val_loss: -0.9146 - val_acc: 1.0000\n",
      "Epoch 3/6\n",
      "14999/14999 [==============================] - 0s 13us/sample - loss: -1.0168 - acc: 1.0000 - val_loss: -1.0850 - val_acc: 1.0000\n",
      "Epoch 4/6\n",
      "14999/14999 [==============================] - 0s 12us/sample - loss: -1.1619 - acc: 1.0000 - val_loss: -1.2067 - val_acc: 1.0000\n",
      "Epoch 5/6\n",
      "14999/14999 [==============================] - 0s 12us/sample - loss: -1.2673 - acc: 1.0000 - val_loss: -1.2971 - val_acc: 1.0000\n",
      "Epoch 6/6\n",
      "14999/14999 [==============================] - 0s 12us/sample - loss: -1.3466 - acc: 1.0000 - val_loss: -1.3668 - val_acc: 1.0000\n",
      "1.0\n",
      "[[487   0]\n",
      " [  0 513]]\n",
      "Run 6 of 8 at time 0.84824 to time 8.48239\n",
      "Performing PCA\n",
      "loading PCA data\n",
      "defining model\n",
      "compiling model\n",
      "training model\n",
      "Train on 14999 samples, validate on 4000 samples\n",
      "Epoch 1/6\n",
      "14999/14999 [==============================] - 0s 28us/sample - loss: 3.0458 - acc: 0.8635 - val_loss: -0.9954 - val_acc: 1.0000\n",
      "Epoch 2/6\n",
      "  256/14999 [..............................] - ETA: 0s - loss: -0.9949 - acc: 1.0000"
     ]
    },
    {
     "name": "stderr",
     "output_type": "stream",
     "text": [
      "c:\\Users\\BCimr\\anaconda3\\lib\\site-packages\\keras\\engine\\training.py:2470: UserWarning: `Model.state_updates` will be removed in a future version. This property should not be used in TensorFlow 2.0, as `updates` are applied automatically.\n",
      "  warnings.warn('`Model.state_updates` will be removed in a future version. '\n"
     ]
    },
    {
     "name": "stdout",
     "output_type": "stream",
     "text": [
      "14999/14999 [==============================] - 0s 17us/sample - loss: -1.1757 - acc: 1.0000 - val_loss: -1.3264 - val_acc: 1.0000\n",
      "Epoch 3/6\n",
      "14999/14999 [==============================] - 0s 12us/sample - loss: -1.4228 - acc: 1.0000 - val_loss: -1.5091 - val_acc: 1.0000\n",
      "Epoch 4/6\n",
      "14999/14999 [==============================] - 0s 12us/sample - loss: -1.5670 - acc: 1.0000 - val_loss: -1.6200 - val_acc: 1.0000\n",
      "Epoch 5/6\n",
      "14999/14999 [==============================] - 0s 12us/sample - loss: -1.6559 - acc: 1.0000 - val_loss: -1.6893 - val_acc: 1.0000\n",
      "Epoch 6/6\n",
      "14999/14999 [==============================] - 0s 12us/sample - loss: -1.7117 - acc: 1.0000 - val_loss: -1.7330 - val_acc: 1.0000\n",
      "1.0\n",
      "[[486   0]\n",
      " [  0 514]]\n",
      "Run 7 of 8 at time 8.48239 to time 84.82391\n",
      "Performing PCA\n",
      "loading PCA data\n",
      "defining model\n",
      "compiling model\n",
      "training model\n",
      "Train on 14999 samples, validate on 4000 samples\n",
      "Epoch 1/6\n",
      "12032/14999 [=======================>......] - ETA: 0s - loss: -1.0226 - acc: 1.0000"
     ]
    },
    {
     "name": "stderr",
     "output_type": "stream",
     "text": [
      "c:\\Users\\BCimr\\anaconda3\\lib\\site-packages\\keras\\engine\\training.py:2470: UserWarning: `Model.state_updates` will be removed in a future version. This property should not be used in TensorFlow 2.0, as `updates` are applied automatically.\n",
      "  warnings.warn('`Model.state_updates` will be removed in a future version. '\n"
     ]
    },
    {
     "name": "stdout",
     "output_type": "stream",
     "text": [
      "14999/14999 [==============================] - 0s 30us/sample - loss: -1.1300 - acc: 1.0000 - val_loss: -1.6059 - val_acc: 1.0000\n",
      "Epoch 2/6\n",
      "14999/14999 [==============================] - 0s 14us/sample - loss: -1.6928 - acc: 1.0000 - val_loss: -1.7511 - val_acc: 1.0000\n",
      "Epoch 3/6\n",
      "14999/14999 [==============================] - 0s 13us/sample - loss: -1.7723 - acc: 1.0000 - val_loss: -1.7886 - val_acc: 1.0000\n",
      "Epoch 4/6\n",
      "14999/14999 [==============================] - 0s 13us/sample - loss: -1.7942 - acc: 1.0000 - val_loss: -1.7991 - val_acc: 1.0000\n",
      "Epoch 5/6\n",
      "14999/14999 [==============================] - 0s 12us/sample - loss: -1.8004 - acc: 1.0000 - val_loss: -1.8019 - val_acc: 1.0000\n",
      "Epoch 6/6\n",
      "14999/14999 [==============================] - 0s 13us/sample - loss: -1.8021 - acc: 1.0000 - val_loss: -1.8025 - val_acc: 1.0000\n",
      "1.0\n",
      "[[503   0]\n",
      " [  0 497]]\n"
     ]
    }
   ],
   "source": [
    "for t_index in range(len(plot_times_min)):\n",
    "    tmax = plot_times_max[t_index]\n",
    "    tmin = plot_times_min[t_index]\n",
    "    print('Run', t_index, 'of', len(plot_times_max), 'at time', str(np.round(tmin,5)), 'to time', str(np.round(tmax,5)))\n",
    "\n",
    "    case_time = experiment_name + '_time_'+str(np.round(tmax,5))\n",
    "    time_dir = data_dir + '\\\\' + case_time\n",
    "    try:\n",
    "        os.mkdir(time_dir)\n",
    "    except FileExistsError:\n",
    "        pass\n",
    "\n",
    "    expdata_name = case_time + '_exp_and_pca_data'\n",
    "    expdata_dir = time_dir + '\\\\' + expdata_name\n",
    "    expdata_exists = False\n",
    "    pcadata_exists = False\n",
    "    try:\n",
    "        os.mkdir(expdata_dir)\n",
    "    except FileExistsError:\n",
    "        expdata_exists = os.path.isfile(expdata_dir+'\\\\exp_data_all.csv')\n",
    "        pcadata_exists = os.path.isfile(expdata_dir+'\\\\pca_data_all.csv')\n",
    "        accdata_exists = os.path.isfile(expdata_dir+'\\\\acc_data_all.csv')\n",
    "\n",
    "    if not expdata_exists or overwrite:\n",
    "        projector_list, median_projector, \\\n",
    "            state_list_0, median_state_0, \\\n",
    "                prepicked_trajectories, median_trajectory, \\\n",
    "                    BigDSList, reglist = \\\n",
    "            u.get_probe_trajectories(\n",
    "                Flist_dynamic, \n",
    "                Flist_thermal, \n",
    "                LatLenList,\n",
    "                Blist, \n",
    "                TempList, \n",
    "                Tdev, \n",
    "                tmin,\n",
    "                tmax,\n",
    "                t_index,\n",
    "                measurements_per_window, \n",
    "                cases, \n",
    "                n_samples,  \n",
    "                Regression)\n",
    "        exp_data = u.generate_measurement_data(\n",
    "            projector_list, \n",
    "            median_projector, \n",
    "            prepicked_trajectories, \n",
    "            median_state_0, \n",
    "            BigDSList,\n",
    "            cases, \n",
    "            n_samples, \n",
    "            measurements_per_window, \n",
    "            n_tom, \n",
    "            Tdev,\n",
    "            ylist,\n",
    "            Regression, \n",
    "            reglist,\n",
    "            save=True, \n",
    "            path=expdata_dir + '\\\\')\n",
    "        \n",
    "        exp_data = np.asarray(exp_data)\n",
    "    elif not pcadata_exists:\n",
    "        print('loading experimental simulation data')\n",
    "        exp_data = np.asarray(pd.read_csv(expdata_dir+'\\\\exp_data_all.csv'))\n",
    "\n",
    "    LO = 1                  # Fraction of variance to be kept after PCA (0 to 1 or 'All') \n",
    "    print('Performing PCA')\n",
    "    if not pcadata_exists or overwrite or not expdata_exists:\n",
    "        PCAdData = u.run_PCA_on_data(\n",
    "            exp_data, \n",
    "            f_train, \n",
    "            PCA_var_keep, \n",
    "            cases, \n",
    "            save=True, \n",
    "            path=expdata_dir + '\\\\')\n",
    "    else:\n",
    "        print('loading PCA data')\n",
    "        PCAdData = np.asarray(pd.read_csv(expdata_dir+'\\\\pca_data_all.csv'))\n",
    "    print('defining model')\n",
    "    ### DEFINE THE NETWORK ARCHITECTURE ###\n",
    "    nI = PCAdData.shape[1]-LO\n",
    "    nO = 1 if Regression else len(ylabels)\n",
    "\n",
    "\n",
    "    model_list = [\n",
    "        tf.keras.layers.Flatten(input_shape=(nI,)), \n",
    "        tf.keras.layers.Dense(nO, activation=tf.keras.layers.ReLU())]\n",
    "    if hidden_layer:\n",
    "        model_list.insert(1, tf.keras.layers.Dense(nH1, activation=tf.keras.layers.ReLU()))\n",
    "    model = tf.keras.Sequential(model_list)\n",
    "\n",
    "    def custom_loss_with_l2_reg(lambda_value):\n",
    "        def loss(y_true, y_pred):\n",
    "            eps = 10**(-10) # to prevent the logs from diverging\n",
    "            if Regression:\n",
    "                cross_entropy = tf.losses.mean_squared_error(y_true,y_pred)\n",
    "            else:\n",
    "                cross_entropy = tf.reduce_mean(tf.reduce_sum( -y_true * tf.log(y_pred+eps), reduction_indices=[1]))\n",
    "            l2_loss = tf.add_n([tf.nn.l2_loss(w) for w in model.trainable_weights])\n",
    "            return cross_entropy + lambda_value*l2_loss\n",
    "        return loss\n",
    "\n",
    "    if True:\n",
    "        optimizer = tf.train.AdamOptimizer(learning_rate=1e-1)\n",
    "        loss = custom_loss_with_l2_reg(L2reg)\n",
    "\n",
    "        print('compiling model')\n",
    "        model.compile(\n",
    "            optimizer=optimizer, \n",
    "            loss=loss, \n",
    "            metrics=['mae'] if Regression else ['accuracy'])\n",
    "\n",
    "        n_train = int(PCAdData.shape[0]*(f_train+f_valid))\n",
    "        n_test = PCAdData.shape[0] - n_train\n",
    "        x_train = PCAdData[:n_train, :-LO]\n",
    "        x_test = PCAdData[n_train:n_train+n_test, :-LO]\n",
    "        y_train = PCAdData[:n_train, -LO:]\n",
    "        y_test = PCAdData[n_train:n_train+n_test, -LO:]\n",
    "\n",
    "        if not Regression:\n",
    "            y_train_OH = tf.keras.utils.to_categorical(y_train, num_classes=nO)\n",
    "            y_test_OH = tf.keras.utils.to_categorical(y_test, num_classes=nO)\n",
    "\n",
    "        print('training model')\n",
    "        history = model.fit(\n",
    "            x_train, \n",
    "            y_train if Regression else y_train_OH, \n",
    "            epochs=6, \n",
    "            verbose=1, \n",
    "            validation_split=f_valid/(f_valid+f_train), \n",
    "            batch_size=minibatch_size)\n",
    "\n",
    "        if Regression:\n",
    "            accs = [0.5, 0.25, 0.1, 0.05, 0.04, 0.03, 0.02, 0.01]\n",
    "            y_pred = model.predict(x_test)\n",
    "            accuracy = [np.sum(np.abs(y_test - y_pred) < acc)/y_test.shape[0] for acc in accs]\n",
    "            print(accuracy)\n",
    "            val_acc.append(accuracy)\n",
    "            if accuracy > 0.999:\n",
    "                break\n",
    "        else:\n",
    "            val_acc.append(history.history['val_acc'][-1])\n",
    "            print(history.history['val_acc'][-1])\n",
    "            y_pred = model.predict(x_test)\n",
    "            confusion.append(metrics.confusion_matrix(y_test_OH.argmax(axis=1), y_pred.argmax(axis=1), labels=list(range(len(ylabels)))))\n",
    "            print(confusion[-1])\n"
   ]
  },
  {
   "cell_type": "code",
   "execution_count": 8,
   "metadata": {},
   "outputs": [],
   "source": [
    "if not Regression:\n",
    "    conf = np.zeros((len(confusion[0].flatten()), len(confusion)))\n",
    "    for i, c in enumerate(confusion):\n",
    "        conf[:, i] = confusion[i].flatten()\n",
    "\n",
    "plot_times_max_arr = np.asarray(plot_times_max).reshape((-1, 1)).T\n",
    "plot_times_min_arr = np.asarray(plot_times_min).reshape((-1, 1)).T\n",
    "if not Regression:\n",
    "    val_acc_arr = np.asarray(val_acc).reshape((-1, 1)).T\n",
    "else:\n",
    "    val_acc_arr = np.asarray(val_acc).T\n",
    "\n",
    "output = (plot_times_min_arr, plot_times_max_arr, val_acc_arr) if Regression else (plot_times_min_arr, plot_times_max_arr, val_acc_arr, conf)\n",
    "test_result = np.concatenate(output, axis=0)\n",
    "\n",
    "if not os.path.isfile(data_dir+'\\\\test_output.csv') or overwrite:\n",
    "    pd.DataFrame(test_result).to_csv(data_dir+'\\\\test_output.csv')"
   ]
  },
  {
   "cell_type": "code",
   "execution_count": 9,
   "metadata": {},
   "outputs": [
    {
     "data": {
      "text/plain": [
       "(0.0035342917352885173,)"
      ]
     },
     "execution_count": 9,
     "metadata": {},
     "output_type": "execute_result"
    }
   ],
   "source": [
    "a, "
   ]
  },
  {
   "cell_type": "code",
   "execution_count": 10,
   "metadata": {},
   "outputs": [
    {
     "data": {
      "image/png": "[encoded data removed]",
      "text/plain": [
       "<Figure size 432x288 with 1 Axes>"
      ]
     },
     "metadata": {
      "needs_background": "light"
     },
     "output_type": "display_data"
    }
   ],
   "source": [
    "import matplotlib.pyplot as plt\n",
    "\n",
    "fig, ax=plt.subplots()\n",
    "ax.plot(plot_times_max*a/3e8, val_acc)\n",
    "ax.plot([50*a/3e8]*2, [0,1])\n",
    "\n",
    "ax.set_xscale('log')\n",
    "#plt.xlim(0, 1)\n",
    "#plt.ylim(0, 1)"
   ]
  },
  {
   "cell_type": "code",
   "execution_count": 11,
   "metadata": {},
   "outputs": [
    {
     "data": {
      "text/plain": [
       "array([0, 0, 0, 0, 0, 0, 0, 0, 0, 0, 0, 0, 0, 0, 0, 0, 0, 0, 0, 0, 0, 0, 0, 0, 0, 0, 0, 0, 0, 0, 0, 0, 0, 0, 0, 0, 0, 0, 0, 0, 0, 0, 0, 0, 0, 0, 0, 0, 0, 0, 16.6, 0, 0, 0, 0, 0, 0, 0, 0, 0, 0, 0, 0, 0, 0, 0, 0, 0, 0, 0, 0, 0, 0, 0, 0, 0, 0, 0, 0, 0, 0, 0, 0, 0, 0, 0, 0, 0, 0, 0, 0, 0, 0, 0, 0, 0, 0, 0, 0, 0, 0.118])"
      ]
     },
     "execution_count": 11,
     "metadata": {},
     "output_type": "execute_result"
    }
   ],
   "source": [
    "np.printoptions(linewidth=1000, )\n",
    "k=0\n",
    "Flist_dynamic[0][:101, :101][:, -1]"
   ]
  },
  {
   "cell_type": "code",
   "execution_count": 14,
   "metadata": {},
   "outputs": [],
   "source": [
    "for t_index in range(len(plot_times_min[:1])):\n",
    "    tmax = plot_times_max[t_index]\n",
    "    tmin = plot_times_min[t_index]\n",
    "\n",
    "    case_time = experiment_name + '_time_'+str(np.round(tmax,5))\n",
    "    time_dir = data_dir + '\\\\' + case_time\n",
    "\n",
    "    expdata_name = case_time + '_exp_and_pca_data'\n",
    "    expdata_dir = time_dir + '\\\\' + expdata_name\n",
    "\n",
    "    exp_data = np.asarray(pd.read_csv(expdata_dir+'\\\\exp_data_all.csv'))"
   ]
  },
  {
   "cell_type": "code",
   "execution_count": 25,
   "metadata": {},
   "outputs": [
    {
     "data": {
      "image/png": "[encoded data removed]",
      "text/plain": [
       "<Figure size 432x288 with 1 Axes>"
      ]
     },
     "metadata": {
      "needs_background": "light"
     },
     "output_type": "display_data"
    }
   ],
   "source": [
    "fig, ax = plt.subplots()\n",
    "idxs = [0,3,6,9,12,15,18,21,24,27]\n",
    "idxs = np.asarray(idxs)\n",
    "i=1\n",
    "for q in exp_data[:10]:\n",
    "    ax.plot(q[idxs+i], c='red')\n",
    "\n",
    "for q in exp_data[10000:10010]:\n",
    "    ax.plot(q[idxs+i], c='blue')\n",
    "    \n",
    "# calculate whiteman functions"
   ]
  }
 ],
 "metadata": {
  "kernelspec": {
   "display_name": "base",
   "language": "python",
   "name": "python3"
  },
  "language_info": {
   "codemirror_mode": {
    "name": "ipython",
    "version": 3
   },
   "file_extension": ".py",
   "mimetype": "text/x-python",
   "name": "python",
   "nbconvert_exporter": "python",
   "pygments_lexer": "ipython3",
   "version": "3.9.7"
  },
  "orig_nbformat": 4
 },
 "nbformat": 4,
 "nbformat_minor": 2
}
